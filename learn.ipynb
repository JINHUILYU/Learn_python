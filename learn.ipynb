{
 "cells": [
  {
   "cell_type": "code",
   "execution_count": 17,
   "id": "initial_id",
   "metadata": {
    "collapsed": true,
    "ExecuteTime": {
     "end_time": "2023-11-06T12:40:26.625208300Z",
     "start_time": "2023-11-06T12:40:26.614990900Z"
    }
   },
   "outputs": [
    {
     "name": "stdout",
     "output_type": "stream",
     "text": [
      "Py\n",
      "thon\n",
      "Python\n",
      "Pto\n",
      "nohtyP\n",
      "ho\n",
      "python\n",
      "1\n",
      "hello world\n",
      "hello world\n",
      "2017-03-29-22:00\n",
      "['2017', '03', '29', '22:00']\n",
      "www.cnblogs.com\n",
      "h 0\n",
      "t 1\n",
      "t 2\n",
      "p 3\n",
      "s 4\n",
      ": 5\n",
      "/ 6\n",
      "/ 7\n",
      "w 8\n",
      "w 9\n",
      "w 10\n",
      ". 11\n",
      "c 12\n",
      "n 13\n",
      "b 14\n",
      "l 15\n",
      "o 16\n",
      "g 17\n",
      "s 18\n",
      ". 19\n",
      "c 20\n",
      "o 21\n",
      "m 22\n",
      "/ 23\n",
      "y 24\n",
      "a 25\n",
      "n 26\n",
      "g 27\n",
      "y 28\n",
      "u 29\n",
      "q 30\n",
      "i 31\n",
      "g 32\n",
      "/ 33\n",
      "p 34\n",
      "/ 35\n",
      "1 36\n",
      "0 37\n",
      "1 38\n",
      "0 39\n",
      "1 40\n",
      "6 41\n",
      "6 42\n",
      "3 43\n",
      ". 44\n",
      "h 45\n",
      "t 46\n",
      "m 47\n",
      "l 48\n"
     ]
    }
   ],
   "source": [
    "# 字符串\n",
    "s = 'Python'\n",
    "# 切片\n",
    "print(s[0:2])  # Py\n",
    "print(s[2:])  # thon\n",
    "print(s[:])  # Python\n",
    "print(s[::2])  # Pto\n",
    "print(s[::-1])  # nohtyP\n",
    "print(s[-3:-1])  # ho\n",
    "# 替换\n",
    "print(s.replace('P', 'p'))  # python\n",
    "# 查找\n",
    "print(s.find('y'))  # 1\n",
    "# 转大小写, upper()、lower()、swapcase()、capitalize()、istitle()、isupper()、islower()\n",
    "# 去空格,strip()、lstrip()、rstrip()\n",
    "# 格式化\n",
    "print('hello %s' % 'world')  # hello world\n",
    "print('hello {}'.format('world'))  # hello world\n",
    "s = ['2017', '03', '29', '22:00']\n",
    "print('-'.join(s))  # '2017-03-29-22:00'\n",
    "print(('-'.join(s)).split('-'))  # ['2017', '03', '29', '22:00']\n",
    "# 分片\n",
    "tag = ['https://www.cnblogs.com/yangyuqig/p/10101663.html']\n",
    "# 拿到这个元素后通过分片取出一个范围的值，左闭右开\n",
    "print(tag[0][8:23])  # www.cnblogs.com\n",
    "num = 0\n",
    "for i in tag[0]:\n",
    "    print(i, num)\n",
    "    num += 1"
   ]
  },
  {
   "cell_type": "code",
   "execution_count": 2,
   "outputs": [
    {
     "name": "stdout",
     "output_type": "stream",
     "text": [
      "b'Python'\n",
      "Python\n"
     ]
    }
   ],
   "source": [
    "# encode 将字符转换为字节\n",
    "# decode 将字节转换为字符\n",
    "# encode 和 decode 的默认编码为 utf-8\n",
    "# encode 和 decode 的参数 errors 可以设置为 'ignore' 忽略错误\n",
    "# encode 和 decode 的参数 errors 可以设置为 'replace' 替换错误\n",
    "tmp = 'Python'\n",
    "print(tmp.encode())  # b'Python'\n",
    "print(tmp.encode().decode())  # Python"
   ],
   "metadata": {
    "collapsed": false,
    "ExecuteTime": {
     "end_time": "2023-11-05T05:26:10.261455500Z",
     "start_time": "2023-11-05T05:26:10.253442200Z"
    }
   },
   "id": "8b268aef03328b99"
  },
  {
   "cell_type": "code",
   "execution_count": 3,
   "outputs": [
    {
     "name": "stdout",
     "output_type": "stream",
     "text": [
      "Monday\n",
      "0\n",
      "['Monday', 'Tuesday', 'Wednesday', 'Thursday', 'Friday', 'Saturday']\n",
      "['Sunday', 'Monday', 'Tuesday', 'Wednesday', 'Thursday', 'Friday', 'Saturday']\n",
      "['Monday', 'Tuesday', 'Wednesday', 'Thursday', 'Friday', 'Saturday']\n"
     ]
    }
   ],
   "source": [
    "# List\n",
    "Weekday = ['Monday', 'Tuesday', 'Wednesday', 'Thursday', 'Friday']\n",
    "print(Weekday[0])  # Monday\n",
    "# List 搜索\n",
    "print(Weekday.index('Monday'))  # 0\n",
    "# List 添加\n",
    "Weekday.append('Saturday')\n",
    "print(Weekday)  # ['Monday', 'Tuesday', 'Wednesday', 'Thursday', 'Friday', 'Saturday']\n",
    "# List 插入\n",
    "Weekday.insert(0, 'Sunday')\n",
    "print(Weekday)  # ['Sunday', 'Monday', 'Tuesday', 'Wednesday', 'Thursday', 'Friday', 'Saturday']\n",
    "# List 删除\n",
    "Weekday.remove('Sunday')\n",
    "print(Weekday)  # ['Monday', 'Tuesday', 'Wednesday', 'Thursday', 'Friday', 'Saturday']"
   ],
   "metadata": {
    "collapsed": false,
    "ExecuteTime": {
     "end_time": "2023-11-05T05:26:16.080649100Z",
     "start_time": "2023-11-05T05:26:16.074772500Z"
    }
   },
   "id": "cb4fa3db89a2566"
  },
  {
   "cell_type": "code",
   "execution_count": 4,
   "outputs": [
    {
     "name": "stdout",
     "output_type": "stream",
     "text": [
      "a\n",
      "('a', 'b', 'c')\n"
     ]
    }
   ],
   "source": [
    "# Tuple\n",
    "# Tuple 一旦初始化就不能修改\n",
    "letters = ('a', 'b', 'c')\n",
    "print(letters[0])  # a\n",
    "print(letters[:])  # ('a', 'b', 'c')"
   ],
   "metadata": {
    "collapsed": false,
    "ExecuteTime": {
     "end_time": "2023-11-05T05:26:19.569286700Z",
     "start_time": "2023-11-05T05:26:19.564424900Z"
    }
   },
   "id": "1053101920ee90c1"
  },
  {
   "cell_type": "code",
   "execution_count": 5,
   "outputs": [
    {
     "name": "stdout",
     "output_type": "stream",
     "text": [
      "{'h', 'o', 'e', 'l'}\n",
      "{'l', 'o', 'h', 'e', 'a'}\n",
      "{'l', 'o', 'h', 'e'}\n"
     ]
    }
   ],
   "source": [
    "# Set\n",
    "# Set 无序，不重复\n",
    "st = set('hello')\n",
    "print(st)  # {'h', 'e', 'l', 'o'}\n",
    "st.add('a')\n",
    "print(st)  # {'a', 'h', 'e', 'l', 'o'}\n",
    "st.remove('a')\n",
    "print(st)  # {'h', 'e', 'l', 'o'}"
   ],
   "metadata": {
    "collapsed": false,
    "ExecuteTime": {
     "end_time": "2023-11-05T05:26:22.394509Z",
     "start_time": "2023-11-05T05:26:22.388426700Z"
    }
   },
   "id": "13fd83186f56d226"
  },
  {
   "cell_type": "code",
   "execution_count": 6,
   "outputs": [
    {
     "name": "stdout",
     "output_type": "stream",
     "text": [
      "1\n",
      "1\n",
      "dict_keys(['a', 'b', 'c'])\n",
      "dict_values([1, 2, 3])\n",
      "dict_items([('a', 1), ('b', 2), ('c', 3)])\n",
      "True\n",
      "{'b': 2, 'c': 3}\n"
     ]
    }
   ],
   "source": [
    "# Dict\n",
    "# Dict 无序，key 唯一\n",
    "d = {'a': 1, 'b': 2, 'c': 3}\n",
    "print(d['a'])  # 1\n",
    "print(d.get('a'))  # 1\n",
    "print(d.keys())  # dict_keys(['a', 'b', 'c'])\n",
    "print(d.values())  # dict_values([1, 2, 3])\n",
    "print(d.items())  # dict_items([('a', 1), ('b', 2), ('c', 3)])\n",
    "print('a' in d)  # True\n",
    "d.pop('a')\n",
    "print(d)  # {'b': 2, 'c': 3}"
   ],
   "metadata": {
    "collapsed": false,
    "ExecuteTime": {
     "end_time": "2023-11-05T05:26:24.460337200Z",
     "start_time": "2023-11-05T05:26:24.454498700Z"
    }
   },
   "id": "5596043357bbe87a"
  },
  {
   "cell_type": "code",
   "execution_count": 8,
   "outputs": [
    {
     "name": "stdout",
     "output_type": "stream",
     "text": [
      "0\n",
      "1\n",
      "2\n",
      "3\n",
      "4\n",
      "count >= 5\n"
     ]
    }
   ],
   "source": [
    "count = 0\n",
    "while count < 5:\n",
    "    print(count)\n",
    "    count += 1\n",
    "else:\n",
    "    print('count >= 5')"
   ],
   "metadata": {
    "collapsed": false,
    "ExecuteTime": {
     "end_time": "2023-11-06T12:32:40.714168200Z",
     "start_time": "2023-11-06T12:32:40.713169400Z"
    }
   },
   "id": "6db1828fa237f7b4"
  },
  {
   "cell_type": "code",
   "execution_count": 30,
   "outputs": [
    {
     "name": "stdout",
     "output_type": "stream",
     "text": [
      "[1, 4, 5]\n",
      "[1, 6, 5, 5, 4, 7, 5, 5, 5]\n",
      "True\n",
      "True\n",
      "False\n"
     ]
    }
   ],
   "source": [
    "# index 方法用于从列表中找出某个元素第一次匹配的位置的索引位置\n",
    "# remove 方法用于移除列表中第一个匹配的元素\n",
    "\n",
    "num = [1, 2, 3, 4, 5]\n",
    "# 删除元素\n",
    "num[1:3] = []\n",
    "print(num)  # [1, 4, 5]\n",
    "# 插入元素\n",
    "num[1:1] = [6, 5, 5]\n",
    "num[-1:-1] = [7, 5, 5]\n",
    "print(num)  # [1, 4, 5, 5, 5, 5]\n",
    "print(1 in num)  # True\n",
    "s = ['a', 'b', 'c', 'dd']\n",
    "print('a' in s)\n",
    "print('d' in s)"
   ],
   "metadata": {
    "collapsed": false,
    "ExecuteTime": {
     "end_time": "2023-11-06T13:19:59.829995100Z",
     "start_time": "2023-11-06T13:19:59.825600200Z"
    }
   },
   "id": "5d022816f18b2d31"
  },
  {
   "cell_type": "code",
   "execution_count": 31,
   "outputs": [
    {
     "name": "stdout",
     "output_type": "stream",
     "text": [
      "('a', 'b', 'c')\n",
      "('a',)\n",
      "True\n",
      "False\n"
     ]
    }
   ],
   "source": [
    "# tuple\n",
    "# tuple 一旦初始化就不能修改\n",
    "letters = ('a', 'b', 'c')\n",
    "print(letters)\n",
    "# 元祖只有一个元素时，需要在元素后面添加逗号\n",
    "let = ('a',)\n",
    "print(let)\n",
    "del let  # 删除tuple\n",
    "tup = ('abc',)\n",
    "print('a' in letters)\n",
    "print('a' in tup)"
   ],
   "metadata": {
    "collapsed": false,
    "ExecuteTime": {
     "end_time": "2023-11-06T13:20:14.549912500Z",
     "start_time": "2023-11-06T13:20:14.548169700Z"
    }
   },
   "id": "6e810d9881e11cf3"
  },
  {
   "cell_type": "code",
   "execution_count": 63,
   "outputs": [
    {
     "name": "stdout",
     "output_type": "stream",
     "text": [
      "Stu __init__\n",
      "xiaoming is studying Python\n",
      "Car __init__\n",
      "BMW is running at 120km/h\n",
      "21\n",
      "<class '__main__.Student'> jom 21 类名称调用\n",
      "Car __init__\n",
      "BMWCar--> BMW 100 行驶\n",
      "Car __init__\n",
      "SVWCar--> BMW 100 行驶\n"
     ]
    }
   ],
   "source": [
    "# Class\n",
    "class Stu:\n",
    "    name = 'Stu'\n",
    "\n",
    "    def __init__(self, name, age):\n",
    "        self.name = name\n",
    "        self.age = age\n",
    "        print('Stu __init__')\n",
    "\n",
    "    '''\n",
    "    1.实例方法通过self参数传递当前实例对象，必须实例化\n",
    "    '''\n",
    "\n",
    "    def study(self, course_name):\n",
    "        print(self.name + ' is studying ' + course_name)\n",
    "\n",
    "\n",
    "s = Stu('xiaoming', 20)  # 实例化\n",
    "s.study('Python')  # xiaoming is studying Python\n",
    "\n",
    "\n",
    "class Car:\n",
    "    name = 'BMW'\n",
    "\n",
    "    # 初始化函数\n",
    "    def __init__(self, name):\n",
    "        self.name = name\n",
    "        print('Car __init__')\n",
    "\n",
    "    '''\n",
    "    1.类方法通过@classmethod装饰器实现，只能访问类变量，不能访问实例变量\n",
    "    2.类属性的值，不随实例属性的变化而变化\n",
    "    3.通过cls参数传递当前类对象，不需要实例化\n",
    "    '''\n",
    "\n",
    "    @classmethod\n",
    "    def run(cls, speed):\n",
    "        print(cls.name + ' is running at ' + str(speed) + 'km/h')\n",
    "\n",
    "\n",
    "c = Car('Benz')  # 创建类的实例，由于是类方法，名称依然是BMW\n",
    "c.run(120)  # Benz is running at 120km/h\n",
    "\n",
    "\n",
    "class Student:\n",
    "    name = \"jom\"\n",
    "    age = 21\n",
    "    '''\n",
    "    静态方法没有类似 self、cls 这样的特殊参数，因此 Python 解释器不会对它包含的参数做任何类或对象的绑定。也正因为如此，类的静态方法中无法调用任何类属性和类方法。\n",
    "    '''\n",
    "\n",
    "    @staticmethod\n",
    "    def show(sentence):\n",
    "        print(Student, Student.name, Student.age, sentence)\n",
    "\n",
    "\n",
    "p = Student()\n",
    "print(p.age)\n",
    "Student.show(\"类名称调用\")\n",
    "\n",
    "\n",
    "# 类的继承 class ClassName(BaseClassName)\n",
    "class BMWCar(Car):\n",
    "    conf = '经济适用型'\n",
    "\n",
    "    def run(self, speed):\n",
    "        print('BMWCar-->', self.name, speed, '行驶')\n",
    "\n",
    "\n",
    "bc = BMWCar('BMW')\n",
    "bc.run(100)\n",
    "\n",
    "\n",
    "# 类的多态\n",
    "class SVWCar(Car):\n",
    "    def run(self, speed):\n",
    "        print('SVWCar-->', self.name, speed, '行驶')\n",
    "\n",
    "\n",
    "bc = SVWCar('BMW')\n",
    "bc.run(100)"
   ],
   "metadata": {
    "collapsed": false,
    "ExecuteTime": {
     "end_time": "2023-11-06T13:47:50.092275500Z",
     "start_time": "2023-11-06T13:47:50.085306300Z"
    }
   },
   "id": "4557c9f9c682580a"
  },
  {
   "cell_type": "code",
   "execution_count": 3,
   "outputs": [
    {
     "name": "stdout",
     "output_type": "stream",
     "text": [
      "xiaohong\n",
      "{'age': 20}\n",
      "{'name': 'xiaohong', 'age': 20}\n"
     ]
    }
   ],
   "source": [
    "# 字典\n",
    "# 键一般是唯一的，如果键重复，最后的一个键值对会替换前面的键值对，值没有唯一性要求\n",
    "dict = {'name': 'xiaoming', 'age': 20, 'name': 'xiaohong'}\n",
    "print(dict['name'])  # xiaohong\n",
    "dict1 = dict  # 浅拷贝\n",
    "dict2 = dict.copy()  # 深拷贝\n",
    "del dict['name']\n",
    "print(dict1)  # {'age': 20}\n",
    "print(dict2)  # {'name': 'xiaohong', 'age': 20}"
   ],
   "metadata": {
    "collapsed": false,
    "ExecuteTime": {
     "end_time": "2023-11-07T06:50:55.836663300Z",
     "start_time": "2023-11-07T06:50:55.835111500Z"
    }
   },
   "id": "d19a07b14df20260"
  },
  {
   "cell_type": "code",
   "execution_count": 4,
   "outputs": [
    {
     "name": "stdout",
     "output_type": "stream",
     "text": [
      "{'r', 'd'}\n"
     ]
    }
   ],
   "source": [
    "a = {x for x in 'abracadabra' if x not in 'abc'}\n",
    "print(a)  # {'d', 'r'}"
   ],
   "metadata": {
    "collapsed": false,
    "ExecuteTime": {
     "end_time": "2023-11-07T07:08:16.807645400Z",
     "start_time": "2023-11-07T07:08:16.806130300Z"
    }
   },
   "id": "53a68d1f10ff27d7"
  },
  {
   "cell_type": "code",
   "execution_count": 8,
   "outputs": [
    {
     "name": "stdout",
     "output_type": "stream",
     "text": [
      "Please try again!\n",
      "Please try again!\n",
      "Please try again!\n",
      "Please try again!\n",
      "invalid user response\n"
     ]
    }
   ],
   "source": [
    "def def_param_fun(prompt, retries=4, reminder='Please try again!'):\n",
    "    try:\n",
    "        while True:\n",
    "            ok = input(prompt)\n",
    "            if ok in ('y', 'ye', 'yes'):\n",
    "                return True\n",
    "            if ok in ('n', 'no', 'nop', 'nope'):\n",
    "                return False\n",
    "            retries = retries - 1\n",
    "            if retries < 0:\n",
    "                raise ValueError('invalid user response')\n",
    "            print(reminder)\n",
    "    except ValueError as e:\n",
    "        print(e)\n",
    "\n",
    "\n",
    "# 我们可以如下进行调用\n",
    "def_param_fun('Do you really want to quit?')"
   ],
   "metadata": {
    "collapsed": false,
    "ExecuteTime": {
     "end_time": "2023-11-07T07:18:31.619039300Z",
     "start_time": "2023-11-07T07:18:27.985441Z"
    }
   },
   "id": "cfc3c867f4e4308d"
  },
  {
   "cell_type": "code",
   "execution_count": 18,
   "outputs": [
    {
     "name": "stdout",
     "output_type": "stream",
     "text": [
      "friend :  xiaoming ;\n",
      "----------------------------------------\n",
      "hello xiaoming\n",
      "nice to meet you!\n",
      "----------------------------------------\n",
      "mother : xiaoma\n",
      "father : xiaoba\n",
      "son : see you\n"
     ]
    }
   ],
   "source": [
    "# 可变参数，其中 *args代表着可以传入一个list或者tuple, **args代表着可以传入一个dict\n",
    "def variable_fun(kind, *arguments, **keywords):\n",
    "    print(\"friend : \", kind, \";\")\n",
    "    print(\"-\" * 40)\n",
    "    for arg in arguments:\n",
    "        print(arg)\n",
    "    print(\"-\" * 40)\n",
    "    for kw in keywords:\n",
    "        print(kw, \":\", keywords[kw])\n",
    "\n",
    "\n",
    "# 函数调用\n",
    "variable_fun(\"xiaoming\",  # kind\n",
    "             \"hello xiaoming\", \"nice to meet you!\",  # arguments\n",
    "             mother=\"xiaoma\",  # keywords\n",
    "             father=\"xiaoba\",\n",
    "             son=\"see you\")"
   ],
   "metadata": {
    "collapsed": false,
    "ExecuteTime": {
     "end_time": "2023-11-07T07:26:33.763295300Z",
     "start_time": "2023-11-07T07:26:33.761021200Z"
    }
   },
   "id": "66a45667b3f0d576"
  },
  {
   "cell_type": "code",
   "execution_count": 16,
   "outputs": [],
   "source": [],
   "metadata": {
    "collapsed": false,
    "ExecuteTime": {
     "end_time": "2023-11-07T07:26:25.347407900Z",
     "start_time": "2023-11-07T07:26:25.341404300Z"
    }
   },
   "id": "356cb0f76f57fd08"
  },
  {
   "cell_type": "code",
   "execution_count": null,
   "outputs": [],
   "source": [],
   "metadata": {
    "collapsed": false
   },
   "id": "219ac9f659cc6a0f"
  }
 ],
 "metadata": {
  "kernelspec": {
   "display_name": "Python 3",
   "language": "python",
   "name": "python3"
  },
  "language_info": {
   "codemirror_mode": {
    "name": "ipython",
    "version": 2
   },
   "file_extension": ".py",
   "mimetype": "text/x-python",
   "name": "python",
   "nbconvert_exporter": "python",
   "pygments_lexer": "ipython2",
   "version": "2.7.6"
  }
 },
 "nbformat": 4,
 "nbformat_minor": 5
}
