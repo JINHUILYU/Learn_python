{
 "cells": [
  {
   "cell_type": "code",
   "execution_count": 1,
   "id": "initial_id",
   "metadata": {
    "collapsed": true,
    "ExecuteTime": {
     "end_time": "2023-11-05T05:25:57.700597600Z",
     "start_time": "2023-11-05T05:25:57.692308800Z"
    }
   },
   "outputs": [
    {
     "name": "stdout",
     "output_type": "stream",
     "text": [
      "Py\n",
      "thon\n",
      "Python\n",
      "Pto\n",
      "nohtyP\n",
      "ho\n",
      "python\n",
      "1\n",
      "hello world\n",
      "hello world\n",
      "2017-03-29-22:00\n",
      "['2017', '03', '29', '22:00']\n"
     ]
    }
   ],
   "source": [
    "# 字符串\n",
    "s = 'Python'\n",
    "# 切片\n",
    "print(s[0:2])  # Py\n",
    "print(s[2:])  # thon\n",
    "print(s[:])  # Python\n",
    "print(s[::2])  # Pto\n",
    "print(s[::-1])  # nohtyP\n",
    "print(s[-3:-1])  # ho\n",
    "# 替换\n",
    "print(s.replace('P', 'p'))  # python\n",
    "# 查找\n",
    "print(s.find('y'))  # 1\n",
    "# 转大小写, upper()、lower()、swapcase()、capitalize()、istitle()、isupper()、islower()\n",
    "# 去空格,strip()、lstrip()、rstrip()\n",
    "# 格式化\n",
    "print('hello %s' % 'world')  # hello world\n",
    "print('hello {}'.format('world'))  # hello world\n",
    "s = ['2017', '03', '29', '22:00']\n",
    "print('-'.join(s))  # '2017-03-29-22:00'\n",
    "print(('-'.join(s)).split('-'))  # ['2017', '03', '29', '22:00']"
   ]
  },
  {
   "cell_type": "code",
   "execution_count": 2,
   "outputs": [
    {
     "name": "stdout",
     "output_type": "stream",
     "text": [
      "b'Python'\n",
      "Python\n"
     ]
    }
   ],
   "source": [
    "# encode 将字符转换为字节\n",
    "# decode 将字节转换为字符\n",
    "# encode 和 decode 的默认编码为 utf-8\n",
    "# encode 和 decode 的参数 errors 可以设置为 'ignore' 忽略错误\n",
    "# encode 和 decode 的参数 errors 可以设置为 'replace' 替换错误\n",
    "tmp = 'Python'\n",
    "print(tmp.encode())  # b'Python'\n",
    "print(tmp.encode().decode())  # Python"
   ],
   "metadata": {
    "collapsed": false,
    "ExecuteTime": {
     "end_time": "2023-11-05T05:26:10.261455500Z",
     "start_time": "2023-11-05T05:26:10.253442200Z"
    }
   },
   "id": "8b268aef03328b99"
  },
  {
   "cell_type": "code",
   "execution_count": 3,
   "outputs": [
    {
     "name": "stdout",
     "output_type": "stream",
     "text": [
      "Monday\n",
      "0\n",
      "['Monday', 'Tuesday', 'Wednesday', 'Thursday', 'Friday', 'Saturday']\n",
      "['Sunday', 'Monday', 'Tuesday', 'Wednesday', 'Thursday', 'Friday', 'Saturday']\n",
      "['Monday', 'Tuesday', 'Wednesday', 'Thursday', 'Friday', 'Saturday']\n"
     ]
    }
   ],
   "source": [
    "# List\n",
    "Weekday = ['Monday', 'Tuesday', 'Wednesday', 'Thursday', 'Friday']\n",
    "print(Weekday[0])  # Monday\n",
    "# List 搜索\n",
    "print(Weekday.index('Monday'))  # 0\n",
    "# List 添加\n",
    "Weekday.append('Saturday')\n",
    "print(Weekday)  # ['Monday', 'Tuesday', 'Wednesday', 'Thursday', 'Friday', 'Saturday']\n",
    "# List 插入\n",
    "Weekday.insert(0, 'Sunday')\n",
    "print(Weekday)  # ['Sunday', 'Monday', 'Tuesday', 'Wednesday', 'Thursday', 'Friday', 'Saturday']\n",
    "# List 删除\n",
    "Weekday.remove('Sunday')\n",
    "print(Weekday)  # ['Monday', 'Tuesday', 'Wednesday', 'Thursday', 'Friday', 'Saturday']"
   ],
   "metadata": {
    "collapsed": false,
    "ExecuteTime": {
     "end_time": "2023-11-05T05:26:16.080649100Z",
     "start_time": "2023-11-05T05:26:16.074772500Z"
    }
   },
   "id": "cb4fa3db89a2566"
  },
  {
   "cell_type": "code",
   "execution_count": 4,
   "outputs": [
    {
     "name": "stdout",
     "output_type": "stream",
     "text": [
      "a\n",
      "('a', 'b', 'c')\n"
     ]
    }
   ],
   "source": [
    "# Tuple\n",
    "# Tuple 一旦初始化就不能修改\n",
    "letters = ('a', 'b', 'c')\n",
    "print(letters[0])  # a\n",
    "print(letters[:])  # ('a', 'b', 'c')"
   ],
   "metadata": {
    "collapsed": false,
    "ExecuteTime": {
     "end_time": "2023-11-05T05:26:19.569286700Z",
     "start_time": "2023-11-05T05:26:19.564424900Z"
    }
   },
   "id": "1053101920ee90c1"
  },
  {
   "cell_type": "code",
   "execution_count": 5,
   "outputs": [
    {
     "name": "stdout",
     "output_type": "stream",
     "text": [
      "{'h', 'o', 'e', 'l'}\n",
      "{'l', 'o', 'h', 'e', 'a'}\n",
      "{'l', 'o', 'h', 'e'}\n"
     ]
    }
   ],
   "source": [
    "# Set\n",
    "# Set 无序，不重复\n",
    "st = set('hello')\n",
    "print(st)  # {'h', 'e', 'l', 'o'}\n",
    "st.add('a')\n",
    "print(st)  # {'a', 'h', 'e', 'l', 'o'}\n",
    "st.remove('a')\n",
    "print(st)  # {'h', 'e', 'l', 'o'}"
   ],
   "metadata": {
    "collapsed": false,
    "ExecuteTime": {
     "end_time": "2023-11-05T05:26:22.394509Z",
     "start_time": "2023-11-05T05:26:22.388426700Z"
    }
   },
   "id": "13fd83186f56d226"
  },
  {
   "cell_type": "code",
   "execution_count": 6,
   "outputs": [
    {
     "name": "stdout",
     "output_type": "stream",
     "text": [
      "1\n",
      "1\n",
      "dict_keys(['a', 'b', 'c'])\n",
      "dict_values([1, 2, 3])\n",
      "dict_items([('a', 1), ('b', 2), ('c', 3)])\n",
      "True\n",
      "{'b': 2, 'c': 3}\n"
     ]
    }
   ],
   "source": [
    "# Dict\n",
    "# Dict 无序，key 唯一\n",
    "d = {'a': 1, 'b': 2, 'c': 3}\n",
    "print(d['a'])  # 1\n",
    "print(d.get('a'))  # 1\n",
    "print(d.keys())  # dict_keys(['a', 'b', 'c'])\n",
    "print(d.values())  # dict_values([1, 2, 3])\n",
    "print(d.items())  # dict_items([('a', 1), ('b', 2), ('c', 3)])\n",
    "print('a' in d)  # True\n",
    "d.pop('a')\n",
    "print(d)  # {'b': 2, 'c': 3}"
   ],
   "metadata": {
    "collapsed": false,
    "ExecuteTime": {
     "end_time": "2023-11-05T05:26:24.460337200Z",
     "start_time": "2023-11-05T05:26:24.454498700Z"
    }
   },
   "id": "5596043357bbe87a"
  },
  {
   "cell_type": "code",
   "execution_count": 7,
   "outputs": [
    {
     "name": "stdout",
     "output_type": "stream",
     "text": [
      "0\n",
      "1\n",
      "2\n",
      "3\n",
      "4\n",
      "count >= 5\n"
     ]
    }
   ],
   "source": [
    "count = 0\n",
    "while count < 5:\n",
    "    print(count)\n",
    "    count += 1\n",
    "else:\n",
    "    print('count >= 5')"
   ],
   "metadata": {
    "collapsed": false,
    "ExecuteTime": {
     "end_time": "2023-11-05T05:30:55.678181700Z",
     "start_time": "2023-11-05T05:30:55.676666Z"
    }
   },
   "id": "6db1828fa237f7b4"
  },
  {
   "cell_type": "code",
   "execution_count": null,
   "outputs": [],
   "source": [],
   "metadata": {
    "collapsed": false
   },
   "id": "5d022816f18b2d31"
  }
 ],
 "metadata": {
  "kernelspec": {
   "display_name": "Python 3",
   "language": "python",
   "name": "python3"
  },
  "language_info": {
   "codemirror_mode": {
    "name": "ipython",
    "version": 2
   },
   "file_extension": ".py",
   "mimetype": "text/x-python",
   "name": "python",
   "nbconvert_exporter": "python",
   "pygments_lexer": "ipython2",
   "version": "2.7.6"
  }
 },
 "nbformat": 4,
 "nbformat_minor": 5
}
